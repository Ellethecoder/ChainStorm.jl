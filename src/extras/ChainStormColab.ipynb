{
  "nbformat": 4,
  "nbformat_minor": 0,
  "metadata": {
    "colab": {
      "provenance": [],
      "gpuType": "T4"
    },
    "kernelspec": {
      "name": "julia",
      "display_name": "Julia"
    },
    "language_info": {
      "name": "julia"
    },
    "accelerator": "GPU"
  },
  "cells": [
    {
      "cell_type": "code",
      "execution_count": 1,
      "metadata": {
        "colab": {
          "base_uri": "https://localhost:8080/"
        },
        "id": "_hXVKYsoocKF",
        "outputId": "38312f39-c53c-4205-c3d4-e20a48d3cf34"
      },
      "outputs": [
        {
          "output_type": "stream",
          "name": "stderr",
          "text": [
            "\u001b[32m\u001b[1m   Resolving\u001b[22m\u001b[39m package versions...\n",
            "\u001b[32m\u001b[1m  No Changes\u001b[22m\u001b[39m to `~/.julia/environments/v1.10/Project.toml`\n",
            "\u001b[32m\u001b[1m  No Changes\u001b[22m\u001b[39m to `~/.julia/environments/v1.10/Manifest.toml`\n",
            "\u001b[32m\u001b[1mPrecompiling\u001b[22m\u001b[39m packages...\n",
            "         \u001b[91m  ✗ \u001b[39m\u001b[90mManifoldsBase → ManifoldsBasePlotsExt\u001b[39m\n",
            "  0 dependencies successfully precompiled in 6 seconds. 542 already precompiled.\n",
            "\u001b[32m\u001b[1m     Cloning\u001b[22m\u001b[39m registry from \"https://github.com/MurrellGroup/MurrellGroupRegistry\"\n",
            "Registry `MurrellGroupRegistry` already exists in `~/.julia/registries/MurrellGroupRegistry`.\n"
          ]
        }
      ],
      "source": [
        "#Package Installation:\n",
        "using Pkg\n",
        "Pkg.add(\"Suppressor\")\n",
        "using Suppressor\n",
        "@suppress Pkg.rm([\"Lux\",\"Reactant\"])\n",
        "pkg\"registry add https://github.com/MurrellGroup/MurrellGroupRegistry\"\n",
        "@suppress Pkg.add([\"CUDA\", \"cuDNN\"]) #<- If GPU\n",
        "@suppress Pkg.add(url = \"https://github.com/MurrellGroup/ChainStorm.jl\")\n",
        "\n",
        "using ChainStorm, CUDA\n",
        "@eval ChainStorm.Flowfusion begin #Because Colab only has Julia 1.10\n",
        "    cmask!(Xt_state, X1_state, cmask) = Xt_state\n",
        "end\n",
        "\n",
        "#Model loading:\n",
        "dev = ChainStorm.gpu;\n",
        "model = load_model() |> dev;"
      ]
    },
    {
      "cell_type": "code",
      "source": [
        "#Run the model:\n",
        "b = dummy_batch([216,216])             #<- The model's only input\n",
        "g = flow_quickgen(b, model, d = dev)     #<- Model inference call\n",
        "export_pdb(\"gen.pdb\", g, b.chainids, b.resinds)      #<- Save PDB"
      ],
      "metadata": {
        "colab": {
          "base_uri": "https://localhost:8080/"
        },
        "id": "l0-M1RhxpHLt",
        "outputId": "74de953d-b5f4-4c16-f4c0-c1f38873fcbb"
      },
      "execution_count": 6,
      "outputs": [
        {
          "output_type": "stream",
          "name": "stdout",
          "text": [
            "..............................................................................................................................................................................................................................................................................................................................................................................................................."
          ]
        }
      ]
    },
    {
      "cell_type": "markdown",
      "source": [
        "<font color='yellow'>NOTE: You can download your exported PDB using the file menu on left panel: </font> ![image.png](data:image/png;base64,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)"
      ],
      "metadata": {
        "id": "AavrEagPu9Ol"
      }
    }
  ]
}